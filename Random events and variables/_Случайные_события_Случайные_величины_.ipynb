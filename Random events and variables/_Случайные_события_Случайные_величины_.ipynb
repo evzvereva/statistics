{
  "nbformat": 4,
  "nbformat_minor": 0,
  "metadata": {
    "colab": {
      "provenance": []
    },
    "kernelspec": {
      "name": "python3",
      "display_name": "Python 3"
    },
    "language_info": {
      "name": "python"
    }
  },
  "cells": [
    {
      "cell_type": "code",
      "execution_count": null,
      "metadata": {
        "id": "A7D1OdqKZojV"
      },
      "outputs": [],
      "source": [
        "import numpy as np"
      ]
    },
    {
      "cell_type": "markdown",
      "source": [
        "## Задание 1\n",
        "\n",
        "Смоделировать игру против лотерейного автомата\n",
        "типа \"777\". Игрок платит 1 жетон, после чего выпадает\n",
        "случайное целое число, равномерно распределенное\n",
        "от 0 до 999. При некоторых значениях числа игрок\n",
        "получает выигрыш:\n",
        "\n",
        "* 777: 200 жетонов\n",
        "*999: 100 жетонов\n",
        "*555: 50 жетонов\n",
        "*333: 15 жетонов\n",
        "*111: 10 жетонов\n",
        "*77: 5 жетонов\n",
        "*7: 3 жетона\n",
        "*00: 2 жетона\n",
        "*0: 1 жетон\n",
        "\n",
        "● Выгодна ли игра игроку?\n",
        "● Сколько в среднем приобретает или теряет игрок за одну игру?"
      ],
      "metadata": {
        "id": "5PJV9Gn11Aan"
      }
    },
    {
      "cell_type": "code",
      "source": [
        "\"\"\"\n",
        "словарь содержит в себе информацию чисел, за которые предусмотрен выигрыш,\n",
        "где ключ - число, значение - выигрыш в рублях\n",
        "\"\"\"\n",
        "winning = {777: 200, 999: 100, 555: 50, 333: 15, 111: 10, 77: 5, 7: 3, 00: 2, 0: 1}\n",
        "\n",
        "trials = 1000000 # количество попыток\n",
        "money = 1 # 1 жетон за одну попытку\n",
        "count_money_winning = 0 # результат выигрыша \n",
        "count_money_losses = 0 # результат проигрыша "
      ],
      "metadata": {
        "id": "YHeZFRHWlmK3"
      },
      "execution_count": null,
      "outputs": []
    },
    {
      "cell_type": "code",
      "source": [
        "for i in range(trials):\n",
        "    # получаем случайное число:\n",
        "    random_number = np.random.randint(0, 1000)\n",
        "\n",
        "    # проверяем есть ли случайное число в списке выигрышных чисел в словаре winning\n",
        "    # + подсчитываем выигрыш/проигрыш\n",
        "    if random_number in winning.keys():\n",
        "        count_money_winning = count_money_winning + winning[random_number]\n",
        "    elif random_number % 100 in winning.keys():\n",
        "        count_money_winning +=  winning[random_number % 100]\n",
        "    elif random_number % 10 in winning.keys():\n",
        "        count_money_winning +=  winning[random_number % 10]\n",
        "    else:\n",
        "        count_money_losses = count_money_losses + 1\n",
        "\n",
        "print(f'Результат выигрыша: {count_money_winning}, результат проигрыша'\\\n",
        "    f' : {count_money_losses}')\n",
        "\n",
        "# сравниваем значение выигрыша и проигрыша делая вывод по игре\n",
        "if count_money_winning < count_money_losses:\n",
        "    print(f'Игра не выгодна для игрока.\\nВ среднем проигрывает за одну игру: ' \\\n",
        "          f'{round(money - (count_money_losses / trials), 2)}')\n",
        "else:\n",
        "    print(f'Игра выгодна для игрока.\\nВ среднем выигрывает за одну игру: ' \\\n",
        "          f'{round(money - (count_money_winning / trials), 2)}')\n"
      ],
      "metadata": {
        "colab": {
          "base_uri": "https://localhost:8080/"
        },
        "id": "rNi8VfCFoELh",
        "outputId": "ef4da9da-5855-435b-b00f-9a3c6bba9332"
      },
      "execution_count": null,
      "outputs": [
        {
          "output_type": "stream",
          "name": "stdout",
          "text": [
            "Результат выигрыша: 794958, результат проигрыша : 795676\n",
            "Игра не выгодна для игрока.\n",
            "В среднем проигрывает за одну игру: 0.2\n"
          ]
        }
      ]
    },
    {
      "cell_type": "markdown",
      "source": [
        "## Задание 2\n",
        "\n",
        "Дополнительное задание повышенной сложности. Теоретически рассчитать средний\n",
        "выигрыш (проигрыш) и сравнить с результатами моделирования."
      ],
      "metadata": {
        "id": "GnboQUGl1WyG"
      }
    },
    {
      "cell_type": "code",
      "source": [
        "# *77: 5 жетонов. - 9 вариантов выигрышного числа\n",
        "# **7: 3 жетонов.- 90 вариантов выигрышного числа\n",
        "# *00: 2 жетонов - 10 вариантов выигрышного числа\n",
        "# **0: 1 жетонов - 90 вариантов выигрышного числа\n",
        "\n",
        "# считаем вручную согласно формуле полной веротяности:\n",
        "result = ((1 / 1000) * (200 + 100 + 50 + 15 + 10)) + (9 / 1000 * 5) + (90 / \\\n",
        "                                1000 * 3) + (10 / 1000 * 2) + (90 / 1000 * 1)\n",
        "print(round(money - result, 2))\n"
      ],
      "metadata": {
        "colab": {
          "base_uri": "https://localhost:8080/"
        },
        "id": "R9yppWJb1fOc",
        "outputId": "2ff116b7-d93a-48b4-f316-c503a35e7f4b"
      },
      "execution_count": null,
      "outputs": [
        {
          "output_type": "stream",
          "name": "stdout",
          "text": [
            "0.2\n"
          ]
        }
      ]
    },
    {
      "cell_type": "code",
      "source": [
        "\"\"\"\n",
        "Вывод:\n",
        "\n",
        "Можно говорить о том, что в обоих случаях, как результат моделирования, так и \n",
        "результат подсчета вероятности вручную говорят о том, что в среднем за каждую \n",
        "попытку игрок теряет 0,2 жетона от 1.\n",
        "\"\"\""
      ],
      "metadata": {
        "id": "0en_BpfeOQLf"
      },
      "execution_count": null,
      "outputs": []
    }
  ]
}